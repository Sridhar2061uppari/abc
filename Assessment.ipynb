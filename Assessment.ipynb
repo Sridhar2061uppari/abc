{
  "nbformat": 4,
  "nbformat_minor": 0,
  "metadata": {
    "colab": {
      "private_outputs": true,
      "provenance": [],
      "authorship_tag": "ABX9TyPI50CsUyP3FuUH8mFoNBlh",
      "include_colab_link": true
    },
    "kernelspec": {
      "name": "python3",
      "display_name": "Python 3"
    },
    "language_info": {
      "name": "python"
    }
  },
  "cells": [
    {
      "cell_type": "markdown",
      "metadata": {
        "id": "view-in-github",
        "colab_type": "text"
      },
      "source": [
        "<a href=\"https://colab.research.google.com/github/Sridhar2061uppari/abc/blob/main/Assessment.ipynb\" target=\"_parent\"><img src=\"https://colab.research.google.com/assets/colab-badge.svg\" alt=\"Open In Colab\"/></a>"
      ]
    },
    {
      "cell_type": "code",
      "execution_count": null,
      "metadata": {
        "id": "_dUaa3HJBYCG"
      },
      "outputs": [],
      "source": [
        "import numpy as np\n",
        "import pandas as pd\n",
        "import matplotlib.pyplot as plt\n",
        "import seaborn as sns"
      ]
    },
    {
      "cell_type": "code",
      "source": [
        "df = pd.read_csv(\"/train.csv\")"
      ],
      "metadata": {
        "id": "r2HtQwTSCexo"
      },
      "execution_count": null,
      "outputs": []
    },
    {
      "cell_type": "code",
      "source": [
        "df.head()"
      ],
      "metadata": {
        "id": "_9Xej7q4CqtF"
      },
      "execution_count": null,
      "outputs": []
    },
    {
      "cell_type": "code",
      "source": [
        "df.tail()"
      ],
      "metadata": {
        "id": "AlrCdLD6C1aw"
      },
      "execution_count": null,
      "outputs": []
    },
    {
      "cell_type": "code",
      "source": [
        "df.info()"
      ],
      "metadata": {
        "id": "_E_i4vyfC6FF"
      },
      "execution_count": null,
      "outputs": []
    },
    {
      "cell_type": "code",
      "source": [
        "df.shape"
      ],
      "metadata": {
        "id": "9h9FlOZnDHdV"
      },
      "execution_count": null,
      "outputs": []
    },
    {
      "cell_type": "code",
      "source": [
        "df.isnull().sum()"
      ],
      "metadata": {
        "id": "EQRofXx5DKTU"
      },
      "execution_count": null,
      "outputs": []
    },
    {
      "cell_type": "code",
      "source": [
        "df = df.drop(columns=['user/ageInSeconds', 'user/birthdayRaw', 'user/birthdayUnix', 'user/gender'])"
      ],
      "metadata": {
        "id": "S2g1VbHuDn-L"
      },
      "execution_count": null,
      "outputs": []
    },
    {
      "cell_type": "code",
      "source": [
        "df.isnull().sum()"
      ],
      "metadata": {
        "id": "zIA5wFx4EvBE"
      },
      "execution_count": null,
      "outputs": []
    },
    {
      "cell_type": "code",
      "source": [
        "df = df.dropna(subset=['review/text'])"
      ],
      "metadata": {
        "id": "xS_0M3EEE6vJ"
      },
      "execution_count": null,
      "outputs": []
    },
    {
      "cell_type": "code",
      "source": [
        "df.isnull().sum()"
      ],
      "metadata": {
        "id": "a4tSDNi1F6f7"
      },
      "execution_count": null,
      "outputs": []
    },
    {
      "cell_type": "code",
      "source": [
        "df.describe()"
      ],
      "metadata": {
        "id": "plaw27M9C9Z4"
      },
      "execution_count": null,
      "outputs": []
    },
    {
      "cell_type": "code",
      "source": [
        "df.head()"
      ],
      "metadata": {
        "id": "zb3RattwGAxe"
      },
      "execution_count": null,
      "outputs": []
    },
    {
      "cell_type": "code",
      "source": [
        "print(\"Unique values in 'beer/style':\", df['beer/style'].nunique())\n",
        "print(\"Unique values in 'beer/name':\", df['beer/name'].nunique())"
      ],
      "metadata": {
        "id": "MYGzyhOwGIdU"
      },
      "execution_count": null,
      "outputs": []
    },
    {
      "cell_type": "code",
      "source": [
        "#Visualization\n",
        "plt.figure(figsize=(8, 5))\n",
        "sns.histplot(df['review/overall'], bins=10, kde=True)\n",
        "plt.title('Distribution of Overall Ratings')\n",
        "plt.xlabel('Review Overall Rating')\n",
        "plt.ylabel('Frequency')\n",
        "plt.show()"
      ],
      "metadata": {
        "id": "IB8eu7GhGo-z"
      },
      "execution_count": null,
      "outputs": []
    },
    {
      "cell_type": "code",
      "source": [
        "#Alcohol by volume\n",
        "plt.figure(figsize=(8, 5))\n",
        "sns.histplot(df['beer/ABV'], bins=20, kde=True)\n",
        "plt.title('Distribution of Alcohol By Volume (ABV)')\n",
        "plt.xlabel('ABV')\n",
        "plt.ylabel('Frequency')\n",
        "plt.show()"
      ],
      "metadata": {
        "id": "pbU5ANUQGyn3"
      },
      "execution_count": null,
      "outputs": []
    },
    {
      "cell_type": "code",
      "source": [
        "#ABV by Beer Style\n",
        "plt.figure(figsize=(12, 6))\n",
        "sns.boxplot(x='beer/style', y='beer/ABV', data=df)\n",
        "plt.xticks(rotation=90)\n",
        "plt.title('Alcohol By Volume (ABV) by Beer Style')\n",
        "plt.show()"
      ],
      "metadata": {
        "id": "mdQZVFaEG6aE"
      },
      "execution_count": null,
      "outputs": []
    },
    {
      "cell_type": "code",
      "source": [
        "plt.figure(figsize=(10, 8))\n",
        "correlation_matrix = df[['beer/ABV', 'review/appearance', 'review/aroma',\n",
        "                         'review/palate', 'review/taste', 'review/overall']].corr()\n",
        "sns.heatmap(correlation_matrix, annot=True, cmap='coolwarm', linewidths=0.5)\n",
        "plt.title('Correlation Heatmap of Numerical Features')\n",
        "plt.show()"
      ],
      "metadata": {
        "id": "Z_s4J4BlHF77"
      },
      "execution_count": null,
      "outputs": []
    },
    {
      "cell_type": "code",
      "source": [
        "#Count of beer style\n",
        "plt.figure(figsize=(12, 6))\n",
        "sns.countplot(y='beer/style', data=df, order=df['beer/style'].value_counts().index)\n",
        "plt.title('Count of Reviews per Beer Style')\n",
        "plt.show()"
      ],
      "metadata": {
        "id": "wyS6p4t0HLdi"
      },
      "execution_count": null,
      "outputs": []
    },
    {
      "cell_type": "code",
      "source": [
        "#avg overall rating for each beer style\n",
        "beer_style_avg_rating = df.groupby('beer/style')['review/overall'].mean().sort_values(ascending=False)\n",
        "plt.figure(figsize=(12, 6))\n",
        "sns.barplot(x=beer_style_avg_rating.index, y=beer_style_avg_rating.values)\n",
        "plt.xticks(rotation=90)\n",
        "plt.title('Average Overall Rating by Beer Style')\n",
        "plt.xlabel('Beer Style')\n",
        "plt.ylabel('Average Overall Rating')\n",
        "plt.show()"
      ],
      "metadata": {
        "id": "EgHCilmJHSSG"
      },
      "execution_count": null,
      "outputs": []
    },
    {
      "cell_type": "code",
      "source": [
        "from sklearn.feature_extraction.text import TfidfVectorizer\n",
        "tfidf = TfidfVectorizer(max_features=1000)\n",
        "X_text = tfidf.fit_transform(df['review/text']).toarray()\n",
        "X = np.hstack((X_text, df[['beer/ABV', 'review/appearance', 'review/aroma',\n",
        "                            'review/palate', 'review/taste']].values))\n",
        "y = df['review/overall'].values"
      ],
      "metadata": {
        "id": "T1IHLPXBTdV3"
      },
      "execution_count": null,
      "outputs": []
    },
    {
      "cell_type": "code",
      "source": [
        "#feature engineering\n",
        "from sklearn.model_selection import train_test_split\n",
        "X_train, X_test, y_train, y_test = train_test_split(X, y, test_size=0.2, random_state=42)"
      ],
      "metadata": {
        "id": "QwJslFFGJoDo"
      },
      "execution_count": null,
      "outputs": []
    },
    {
      "cell_type": "code",
      "source": [
        "#Training and Predicting\n",
        "from sklearn.linear_model import LinearRegression"
      ],
      "metadata": {
        "id": "RlRdeZYzRps_"
      },
      "execution_count": null,
      "outputs": []
    },
    {
      "cell_type": "code",
      "source": [
        "logmodel = LinearRegression()\n",
        "logmodel.fit(X_train,y_train)"
      ],
      "metadata": {
        "id": "7BFLNx-xRtFn"
      },
      "execution_count": null,
      "outputs": []
    },
    {
      "cell_type": "code",
      "source": [
        "y_pred = logmodel.predict(X_test)"
      ],
      "metadata": {
        "id": "kJRHp2XmRtZY"
      },
      "execution_count": null,
      "outputs": []
    },
    {
      "cell_type": "code",
      "source": [
        "y_pred"
      ],
      "metadata": {
        "id": "PTFeD7f2a9sE"
      },
      "execution_count": null,
      "outputs": []
    },
    {
      "cell_type": "markdown",
      "source": [],
      "metadata": {
        "id": "pEZmhstRJoK5"
      }
    },
    {
      "cell_type": "code",
      "source": [
        "train_score = logmodel.score(X_train, y_train)\n",
        "test_score = logmodel.score(X_test, y_test)"
      ],
      "metadata": {
        "id": "8zeDW313bl3L"
      },
      "execution_count": null,
      "outputs": []
    },
    {
      "cell_type": "code",
      "source": [
        "train_score"
      ],
      "metadata": {
        "id": "xlYBg4oRb_V0"
      },
      "execution_count": null,
      "outputs": []
    },
    {
      "cell_type": "code",
      "source": [
        "test_score"
      ],
      "metadata": {
        "id": "iB65LMbKcBzD"
      },
      "execution_count": null,
      "outputs": []
    },
    {
      "cell_type": "code",
      "source": [
        "mse = mean_squared_error(y_test, y_pred)\n",
        "mae = mean_absolute_error(y_test, y_pred)\n",
        "r2 = r2_score(y_test, y_pred)"
      ],
      "metadata": {
        "id": "siVAIJzEcEII"
      },
      "execution_count": null,
      "outputs": []
    },
    {
      "cell_type": "code",
      "source": [
        "mse"
      ],
      "metadata": {
        "id": "_cL53hRWcikg"
      },
      "execution_count": null,
      "outputs": []
    },
    {
      "cell_type": "code",
      "source": [
        "mae"
      ],
      "metadata": {
        "id": "jd5oMzBFck8t"
      },
      "execution_count": null,
      "outputs": []
    },
    {
      "cell_type": "code",
      "source": [
        "r2"
      ],
      "metadata": {
        "id": "9Pu7Khn_cndN"
      },
      "execution_count": null,
      "outputs": []
    }
  ]
}